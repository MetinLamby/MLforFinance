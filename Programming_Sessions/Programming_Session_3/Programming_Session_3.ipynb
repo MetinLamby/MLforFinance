{
  "cells": [
    {
      "cell_type": "markdown",
      "metadata": {
        "id": "view-in-github",
        "colab_type": "text"
      },
      "source": [
        "<a href=\"https://colab.research.google.com/github/MetinLamby/MLforFinance/blob/main/Programming_Sessions/Programming_Session_3/Programming_Session_3.ipynb\" target=\"_parent\"><img src=\"https://colab.research.google.com/assets/colab-badge.svg\" alt=\"Open In Colab\"/></a>"
      ]
    },
    {
      "cell_type": "markdown",
      "metadata": {
        "id": "eHz_knk-QXx0"
      },
      "source": [
        "# **<center>Machine Learning and Finance </center>**\n",
        "\n",
        "\n",
        "## <center> Programming Session 3 - Introduction to Deep Learning </center>\n"
      ]
    },
    {
      "cell_type": "markdown",
      "metadata": {
        "id": "dsXQGceNKQas"
      },
      "source": [
        "# Introduction to Deep Learning\n",
        "\n",
        "## Objective\n",
        "\n",
        "The objective of this session is to use a neural network for a sentiment analysis task on the IMDb dataset. We will learn to classify movie reviews as positive or negative, based on the text content of the reviews.\n",
        "\n",
        "## Outline\n",
        "\n",
        "- [Exploring the Dataset](#Exploring-the-Dataset)\n",
        "\n",
        "- [Deep Learning](#Deep-Learning)\n",
        "\n",
        "## Introduction\n",
        "\n",
        "In this tutorial, we will dive into the world of natural language processing (NLP) using neural networks. Our focus will be on sentiment analysis, a key area in NLP that deals with understanding emotions in text.\n",
        "\n",
        "## Challenge\n",
        "\n",
        "The challenge in sentiment analysis lies in accurately classifying the sentiment of text content - in our case, movie reviews - as either positive or negative. This involves understanding the nuances of human language, slang, sarcasm, and contextual meaning.\n",
        "\n",
        "## DataSet Overview\n",
        "\n",
        "We will be using the IMDb dataset, a set of 50,000 movie reviews labeled as positive or negative. This dataset is widely used for training and testing in the domain of sentiment analysis and serves as a benchmark for new models.\n",
        "\n",
        "## Objectives\n",
        "\n",
        "Our goals for this session are to:\n",
        "1. Understand the basics of sentiment analysis and its importance.\n",
        "2. Explore and preprocess the IMDb dataset for neural network training.\n",
        "3. Build and train a neural network to classify movie reviews.\n",
        "4. Evaluate the performance of our model and explore ways to improve it.\n",
        "\n",
        "\n",
        "<center><img width=\"300\" src = \"https://drive.google.com/uc?export=view&id=1qhP9rw1v2zx3NouaFhEiFAnYHpkqPGST\"></center>"
      ]
    },
    {
      "cell_type": "code",
      "execution_count": 1,
      "metadata": {
        "id": "4MoK3YhcvT7-"
      },
      "outputs": [],
      "source": [
        "# Import Basic Modules\n",
        "import tensorflow as tf # to create neural networks\n",
        "import numpy as np # to manipulate arrays\n",
        "import matplotlib.pyplot as plt # for plots\n",
        "plt.style.use('dark_background') # to adapt the colors to a dark background"
      ]
    },
    {
      "cell_type": "markdown",
      "metadata": {
        "id": "GTm66dlwPhy6"
      },
      "source": [
        "# 1. Exploring the dataset"
      ]
    },
    {
      "cell_type": "markdown",
      "metadata": {
        "id": "Y6P4u7TWvHEA"
      },
      "source": [
        "## 1.1 Preprocessing the data"
      ]
    },
    {
      "cell_type": "markdown",
      "metadata": {
        "id": "xAOxRfWwUvaB"
      },
      "source": [
        "* Since today's programming session is not focused on text data preprocessing (refer to Lecture 6 for that), we will be utilizing preprocessed reviews.\n",
        "\n",
        "* Every review consists of a sequence of words. These sequences are preprocessed through a dictionary named **word2idx**, which assigns an integer to every word.\n"
      ]
    },
    {
      "cell_type": "markdown",
      "metadata": {
        "id": "rjDs0-c4HCqH"
      },
      "source": [
        "<center><img width=\"700\" src = \"https://drive.google.com/uc?export=view&id=1Gp8xNTpTxR9TMaS6frkLmHt9YxYeN2RD\"></center>"
      ]
    },
    {
      "cell_type": "markdown",
      "metadata": {
        "id": "NqxzUFLwkfAI"
      },
      "source": [
        "- In the provided example, words are arranged in an index based on their frequency within the dataset. For instance, the integer \"4\" represents the fourth most commonly occurring word in the dataset.\n",
        "\n",
        "- Consequently, the result consists of preprocessed reviews presented as a **list of integers**, depicted in the accompanying figure.\n"
      ]
    },
    {
      "cell_type": "markdown",
      "metadata": {
        "id": "w2QdnMz9HDw8"
      },
      "source": [
        "<center><img width=\"700\" src = \"https://drive.google.com/uc?export=view&id=1GM14DjLNMzgzOBIxas6d2rJvK83iYdQJ\"></center>"
      ]
    },
    {
      "cell_type": "markdown",
      "metadata": {
        "id": "JdeOO3dYLWbE"
      },
      "source": [
        "Consider a vocabulary size denoted as `V = 10000`, representing the number of words intended for processing. Any other words beyond this vocabulary size will be treated uniformly as \"unknown\" or \"out of vocabulary\" and assigned the same index.\n"
      ]
    },
    {
      "cell_type": "code",
      "execution_count": 2,
      "metadata": {
        "id": "_GfvHVjeLVV1"
      },
      "outputs": [],
      "source": [
        "V = 10000"
      ]
    },
    {
      "cell_type": "markdown",
      "metadata": {
        "id": "z_V6OeGXkcqg"
      },
      "source": [
        "\n",
        "---\n",
        "<font color=green>Q1:</font>\n",
        "<br><font color='green'>\n",
        "Load the `imdb` dataset using `tensorflow.keras.datasets` as described in the [TensorFlow documentation](https://www.tensorflow.org/api_docs/python/tf/keras/datasets/imdb/load_data). Configure the loader with `num_words` set to `V`, `maxlen` set to 1000, `start_char` set to 1, `oov_char` set to 2, and `index_from` set to 3.\n",
        "\n",
        "</font>\n",
        "\n",
        "---"
      ]
    },
    {
      "cell_type": "code",
      "execution_count": 3,
      "metadata": {
        "id": "h1O9eX8hPoTI",
        "colab": {
          "base_uri": "https://localhost:8080/"
        },
        "outputId": "733ca7b2-cc36-46fc-e8d3-fd1506e64902"
      },
      "outputs": [
        {
          "output_type": "stream",
          "name": "stdout",
          "text": [
            "Downloading data from https://storage.googleapis.com/tensorflow/tf-keras-datasets/imdb.npz\n",
            "\u001b[1m17464789/17464789\u001b[0m \u001b[32m━━━━━━━━━━━━━━━━━━━━\u001b[0m\u001b[37m\u001b[0m \u001b[1m0s\u001b[0m 0us/step\n"
          ]
        }
      ],
      "source": [
        "# each sentence should have maximum length of 10000 words\n",
        "(x_train, y_train), (x_test, y_test) = tf.keras.datasets.imdb.load_data(\n",
        "    path='imdb.npz',\n",
        "    num_words=V,\n",
        "    maxlen=1000\n",
        ")"
      ]
    },
    {
      "cell_type": "markdown",
      "metadata": {
        "id": "5x1GxouoDzs_"
      },
      "source": [
        "---\n",
        "<font color=green>Q2:</font>\n",
        "<br><font color='green'>\n",
        "Display the initial training data as a list of integers (or 1D array).\n",
        "</font>\n",
        "\n",
        "---"
      ]
    },
    {
      "cell_type": "code",
      "execution_count": 4,
      "metadata": {
        "colab": {
          "base_uri": "https://localhost:8080/"
        },
        "id": "I2VNo-kaTeTH",
        "outputId": "e8e95217-7f8b-4cbd-838f-43ada45396b2"
      },
      "outputs": [
        {
          "output_type": "stream",
          "name": "stdout",
          "text": [
            "[   1   14   22   16   43  530  973 1622 1385   65  458 4468   66 3941\n",
            "    4  173   36  256    5   25  100   43  838  112   50  670    2    9\n",
            "   35  480  284    5  150    4  172  112  167    2  336  385   39    4\n",
            "  172 4536 1111   17  546   38   13  447    4  192   50   16    6  147\n",
            " 2025   19   14   22    4 1920 4613  469    4   22   71   87   12   16\n",
            "   43  530   38   76   15   13 1247    4   22   17  515   17   12   16\n",
            "  626   18    2    5   62  386   12    8  316    8  106    5    4 2223\n",
            " 5244   16  480   66 3785   33    4  130   12   16   38  619    5   25\n",
            "  124   51   36  135   48   25 1415   33    6   22   12  215   28   77\n",
            "   52    5   14  407   16   82    2    8    4  107  117 5952   15  256\n",
            "    4    2    7 3766    5  723   36   71   43  530  476   26  400  317\n",
            "   46    7    4    2 1029   13  104   88    4  381   15  297   98   32\n",
            " 2071   56   26  141    6  194 7486   18    4  226   22   21  134  476\n",
            "   26  480    5  144   30 5535   18   51   36   28  224   92   25  104\n",
            "    4  226   65   16   38 1334   88   12   16  283    5   16 4472  113\n",
            "  103   32   15   16 5345   19  178   32]\n"
          ]
        }
      ],
      "source": [
        "print(np.array(x_train[0]))"
      ]
    },
    {
      "cell_type": "markdown",
      "metadata": {
        "id": "IooUvgTjD0aU"
      },
      "source": [
        "---\n",
        "<font color=green>Q3:</font>\n",
        "<br><font color='green'>\n",
        "\n",
        "Retrieve the `word2idx` dictionary using `imdb.get_word_index()`. What is the index associated with the word \"movie\"?\n",
        "</font>\n",
        "\n",
        "---"
      ]
    },
    {
      "cell_type": "code",
      "execution_count": 5,
      "metadata": {
        "id": "vy26sM3fofMJ",
        "colab": {
          "base_uri": "https://localhost:8080/"
        },
        "outputId": "18d94807-574a-45bb-9527-17beca48f0c6"
      },
      "outputs": [
        {
          "output_type": "stream",
          "name": "stdout",
          "text": [
            "Downloading data from https://storage.googleapis.com/tensorflow/tf-keras-datasets/imdb_word_index.json\n",
            "\u001b[1m1641221/1641221\u001b[0m \u001b[32m━━━━━━━━━━━━━━━━━━━━\u001b[0m\u001b[37m\u001b[0m \u001b[1m0s\u001b[0m 0us/step\n"
          ]
        }
      ],
      "source": [
        "word2idx = tf.keras.datasets.imdb.get_word_index()"
      ]
    },
    {
      "cell_type": "code",
      "execution_count": 6,
      "metadata": {
        "colab": {
          "base_uri": "https://localhost:8080/"
        },
        "id": "hhWuVD5ZCDN0",
        "outputId": "bf1f5852-3daf-4226-ff95-4c07d397c568"
      },
      "outputs": [
        {
          "output_type": "execute_result",
          "data": {
            "text/plain": [
              "17"
            ]
          },
          "metadata": {},
          "execution_count": 6
        }
      ],
      "source": [
        "word2idx[\"movie\"]"
      ]
    },
    {
      "cell_type": "markdown",
      "metadata": {
        "id": "u0x0rx7ND1YD"
      },
      "source": [
        "---\n",
        "<font color=green>Q4:</font>\n",
        "<br><font color='green'>\n",
        "Create a dictionary named `idx2word` to invert the `word2idx` dictionary. Then, infer the original review corresponding to the initial training data, presented as a sequence of words rather than integers. It's crucial to consider that the indexes are shifted by 3 due to the reserved indices for \"padding,\" \"start of sequence,\" and \"unknown,\" which are 0, 1, and 2 respectively.\n",
        "\n",
        "</font>\n",
        "\n",
        "---"
      ]
    },
    {
      "cell_type": "code",
      "source": [
        "idx2words = {value+3:key for key, value in word2idx.items()}"
      ],
      "metadata": {
        "id": "2GX10RRVhpF5"
      },
      "execution_count": 8,
      "outputs": []
    },
    {
      "cell_type": "code",
      "execution_count": 9,
      "metadata": {
        "id": "xVNLFqHAUCOX"
      },
      "outputs": [],
      "source": [
        "my_first_sequence = []\n",
        "for idx in x_train[0]:\n",
        "  if idx > 3:\n",
        "    my_first_sequence.append(idx2words[idx])\n",
        "  else:\n",
        "    my_first_sequence.append(\"oov\")"
      ]
    },
    {
      "cell_type": "code",
      "source": [
        "print(np.array(my_first_sequence))"
      ],
      "metadata": {
        "id": "AQhIujMKhv3t",
        "outputId": "3ea433b6-9ca8-4cce-cdc0-8dfdf31e2f00",
        "colab": {
          "base_uri": "https://localhost:8080/"
        }
      },
      "execution_count": 11,
      "outputs": [
        {
          "output_type": "stream",
          "name": "stdout",
          "text": [
            "['oov' 'this' 'film' 'was' 'just' 'brilliant' 'casting' 'location'\n",
            " 'scenery' 'story' 'direction' \"everyone's\" 'really' 'suited' 'the' 'part'\n",
            " 'they' 'played' 'and' 'you' 'could' 'just' 'imagine' 'being' 'there'\n",
            " 'robert' 'oov' 'is' 'an' 'amazing' 'actor' 'and' 'now' 'the' 'same'\n",
            " 'being' 'director' 'oov' 'father' 'came' 'from' 'the' 'same' 'scottish'\n",
            " 'island' 'as' 'myself' 'so' 'i' 'loved' 'the' 'fact' 'there' 'was' 'a'\n",
            " 'real' 'connection' 'with' 'this' 'film' 'the' 'witty' 'remarks'\n",
            " 'throughout' 'the' 'film' 'were' 'great' 'it' 'was' 'just' 'brilliant'\n",
            " 'so' 'much' 'that' 'i' 'bought' 'the' 'film' 'as' 'soon' 'as' 'it' 'was'\n",
            " 'released' 'for' 'oov' 'and' 'would' 'recommend' 'it' 'to' 'everyone'\n",
            " 'to' 'watch' 'and' 'the' 'fly' 'fishing' 'was' 'amazing' 'really' 'cried'\n",
            " 'at' 'the' 'end' 'it' 'was' 'so' 'sad' 'and' 'you' 'know' 'what' 'they'\n",
            " 'say' 'if' 'you' 'cry' 'at' 'a' 'film' 'it' 'must' 'have' 'been' 'good'\n",
            " 'and' 'this' 'definitely' 'was' 'also' 'oov' 'to' 'the' 'two' 'little'\n",
            " \"boy's\" 'that' 'played' 'the' 'oov' 'of' 'norman' 'and' 'paul' 'they'\n",
            " 'were' 'just' 'brilliant' 'children' 'are' 'often' 'left' 'out' 'of'\n",
            " 'the' 'oov' 'list' 'i' 'think' 'because' 'the' 'stars' 'that' 'play'\n",
            " 'them' 'all' 'grown' 'up' 'are' 'such' 'a' 'big' 'profile' 'for' 'the'\n",
            " 'whole' 'film' 'but' 'these' 'children' 'are' 'amazing' 'and' 'should'\n",
            " 'be' 'praised' 'for' 'what' 'they' 'have' 'done' \"don't\" 'you' 'think'\n",
            " 'the' 'whole' 'story' 'was' 'so' 'lovely' 'because' 'it' 'was' 'true'\n",
            " 'and' 'was' \"someone's\" 'life' 'after' 'all' 'that' 'was' 'shared' 'with'\n",
            " 'us' 'all']\n"
          ]
        }
      ]
    },
    {
      "cell_type": "markdown",
      "metadata": {
        "id": "83oI6qiyvWxd"
      },
      "source": [
        "## 1.2 Creating the (N, V) tensor of Data"
      ]
    },
    {
      "cell_type": "markdown",
      "metadata": {
        "id": "9TYjQFPSv_oy"
      },
      "source": [
        "The data is a list of lists.\n"
      ]
    },
    {
      "cell_type": "markdown",
      "metadata": {
        "id": "_e6_PDKSD2SN"
      },
      "source": [
        "---\n",
        "<font color=green>Q5:</font>\n",
        "<br><font color='green'>\n",
        "What is the maximum length of the sequences in the training data?\n",
        "</font>\n",
        "\n",
        "---"
      ]
    },
    {
      "cell_type": "code",
      "execution_count": 13,
      "metadata": {
        "colab": {
          "base_uri": "https://localhost:8080/"
        },
        "id": "66Yfw4oVDhVd",
        "outputId": "de6e7b66-1683-4205-f291-cb849128b374"
      },
      "outputs": [
        {
          "output_type": "stream",
          "name": "stdout",
          "text": [
            "999\n"
          ]
        }
      ],
      "source": [
        "print(max([len(k) for k in x_train]))"
      ]
    },
    {
      "cell_type": "markdown",
      "metadata": {
        "id": "QTJdnw6nD31d"
      },
      "source": [
        "---\n",
        "<font color=green>Q6:</font>\n",
        "<br><font color='green'>\n",
        "Define a function named `vectorize` which accepts the following inputs:\n",
        "- `sequences`: a list containing lists of integers.\n",
        "- `V`: The size of the vocabulary.\n",
        "This function will produce a tensor with a shape of (N, V), where N is the length of the sequences.\n",
        "\n",
        "The specifications are as follows:\n",
        "- Each sequence is represented by a row in the (N, V) tensor.\n",
        "- For every sequence, the corresponding row is a V-dimensional vector where all elements are 0 except for the indices present in the sequence. For instance,  the sequence [12, 564] will be represented by a V-dimensional vector where all elements are zeros except for indices 12 and 564.\n",
        "</font>\n",
        "\n",
        "---"
      ]
    },
    {
      "cell_type": "markdown",
      "metadata": {
        "id": "mSNJ1GVQHFr8"
      },
      "source": [
        "<center><img width=\"700\" src = \"https://drive.google.com/uc?export=view&id=1jw29117eRETMUSNquct9bdhhwfPOdBj5\"></center>"
      ]
    },
    {
      "cell_type": "code",
      "execution_count": 14,
      "metadata": {
        "id": "x_l8wHbsFqeF"
      },
      "outputs": [],
      "source": [
        "def vectorize_slow(sequences, V):\n",
        "  N = len(sequences)\n",
        "\n",
        "  output_tensor = np.zeros((N,V))\n",
        "\n",
        "  for sequence in sequences:\n",
        "    for index in sequence:\n",
        "      output_tensor[index, sequence] = 1\n",
        "\n",
        "  return output_tensor"
      ]
    },
    {
      "cell_type": "code",
      "source": [
        "def vectorize(sequences, V):\n",
        "  N = len(sequences)\n",
        "\n",
        "  output_tensor = np.zeros((N,V))\n",
        "\n",
        "  for index, sequence in enumerate(sequences):\n",
        "    output_tensor[index, sequence] = 1\n",
        "\n",
        "  return output_tensor"
      ],
      "metadata": {
        "id": "zb1P-MClkJT8"
      },
      "execution_count": 19,
      "outputs": []
    },
    {
      "cell_type": "markdown",
      "metadata": {
        "id": "4CGlUQsRD4u9"
      },
      "source": [
        "---\n",
        "<font color=green>Q7:</font>\n",
        "<br><font color='green'>\n",
        "Apply the `vectorize` function to both the training and test data to transform them into vectorized representations.\n",
        "</font>\n",
        "\n",
        "---"
      ]
    },
    {
      "cell_type": "code",
      "execution_count": 20,
      "metadata": {
        "id": "JIQeYy_POzuO"
      },
      "outputs": [],
      "source": [
        "X_train = vectorize(x_train, V)\n",
        "X_test = vectorize(x_test, V)"
      ]
    },
    {
      "cell_type": "code",
      "execution_count": 21,
      "metadata": {
        "id": "eQAMstvoO0DO",
        "colab": {
          "base_uri": "https://localhost:8080/"
        },
        "outputId": "4bbb1f50-3b61-4193-9e6f-e425e687c8af"
      },
      "outputs": [
        {
          "output_type": "stream",
          "name": "stdout",
          "text": [
            "(24875,)\n"
          ]
        }
      ],
      "source": [
        "print(x_train.shape)"
      ]
    },
    {
      "cell_type": "code",
      "execution_count": 22,
      "metadata": {
        "id": "FMt7CCryO0QM",
        "colab": {
          "base_uri": "https://localhost:8080/"
        },
        "outputId": "7491009a-b0d8-4d7b-f9a3-98751c4290d4"
      },
      "outputs": [
        {
          "output_type": "stream",
          "name": "stdout",
          "text": [
            "(24875, 10000)\n"
          ]
        }
      ],
      "source": [
        "print(X_train.shape)"
      ]
    },
    {
      "cell_type": "markdown",
      "metadata": {
        "id": "tDOIuRdlD5MN"
      },
      "source": [
        "---\n",
        "<font color=green>Q8:</font>\n",
        "<br><font color='green'>\n",
        "Convert the labels to floating-point (`float32`) numbers using the `np.float32` method.\n",
        "</font>\n",
        "\n",
        "---"
      ]
    },
    {
      "cell_type": "code",
      "execution_count": 23,
      "metadata": {
        "id": "xfJMPpSdfcQk"
      },
      "outputs": [],
      "source": [
        "y_train = np.float32(y_train)\n",
        "y_test = np.float32(y_test)"
      ]
    },
    {
      "cell_type": "code",
      "execution_count": 24,
      "metadata": {
        "id": "Q0thLaWtPjvT",
        "colab": {
          "base_uri": "https://localhost:8080/"
        },
        "outputId": "6688c5dd-d600-4d5e-f5a5-4e26624aeffe"
      },
      "outputs": [
        {
          "output_type": "stream",
          "name": "stdout",
          "text": [
            "[1. 0. 0. ... 0. 1. 0.]\n"
          ]
        }
      ],
      "source": [
        "print(y_train)"
      ]
    },
    {
      "cell_type": "code",
      "execution_count": 26,
      "metadata": {
        "colab": {
          "base_uri": "https://localhost:8080/"
        },
        "id": "dUqK_H90O0Kt",
        "outputId": "86688a31-14ed-41e1-b680-160c8d1ca7a9"
      },
      "outputs": [
        {
          "output_type": "stream",
          "name": "stdout",
          "text": [
            "[0. 1. 1. ... 0. 0. 0.]\n"
          ]
        }
      ],
      "source": [
        "print(y_test)"
      ]
    },
    {
      "cell_type": "markdown",
      "metadata": {
        "id": "afODKpPRQaOh"
      },
      "source": [
        "# 2. Deep Learning"
      ]
    },
    {
      "cell_type": "markdown",
      "metadata": {
        "id": "81xiisY4qzTG"
      },
      "source": [
        "## 2.2 Building the Model"
      ]
    },
    {
      "cell_type": "markdown",
      "metadata": {
        "id": "dGsqokaFQmOU"
      },
      "source": [
        "---\n",
        "<font color=green>Q9:</font>\n",
        "<br><font color='green'>\n",
        "Which loss function is most appropriate for a binary classification task? What activation function should be used as the final layer?\n",
        "</font>\n",
        "\n",
        "---\n"
      ]
    },
    {
      "cell_type": "markdown",
      "metadata": {
        "id": "tKdc7NTgSrYF"
      },
      "source": [
        "The loss function should be selected as the binary classification loss function, and the final layer ought to incorporate a **sigmoid** activation function\n"
      ]
    },
    {
      "cell_type": "markdown",
      "metadata": {
        "id": "-y9vuEf4HHHk"
      },
      "source": [
        "<center><img width=\"700\" src = \"https://drive.google.com/uc?export=view&id=1PJPvjjoPG6NASHekAFCxgu8OXwEfO7bN\"></center>"
      ]
    },
    {
      "cell_type": "markdown",
      "source": [
        "when we have a binary classification problem, the final activation function should be a sigmoid function. This function transforms a continues value to a binary output"
      ],
      "metadata": {
        "id": "K7g-LIe1meif"
      }
    },
    {
      "cell_type": "markdown",
      "metadata": {
        "id": "ulqsygACFpQG"
      },
      "source": [
        "---\n",
        "<font color=green>Q10:</font>\n",
        "<br><font color='green'>\n",
        "Using `Sequential` from tensorflow.keras as explained in this [link](https://www.tensorflow.org/api_docs/python/tf/keras/Sequential), Create the following model:\n",
        "</font>\n",
        "\n",
        "---\n"
      ]
    },
    {
      "cell_type": "markdown",
      "metadata": {
        "id": "hszzp-hmHIk8"
      },
      "source": [
        "<center><img width=\"500\" src = \"https://drive.google.com/uc?export=view&id=1Hl_A1tK9ewEZD-3Jwz7HdchSF1q-LUqY\"></center>"
      ]
    },
    {
      "cell_type": "code",
      "execution_count": 30,
      "metadata": {
        "id": "3XgI_mUEb093"
      },
      "outputs": [],
      "source": [
        "from tensorflow.keras.models import Sequential # to define a stack of layers\n",
        "from tensorflow.keras.layers import Dense, Input # The dense layer"
      ]
    },
    {
      "cell_type": "code",
      "source": [
        "model = Sequential()\n",
        "model.add(Input(shape=(V,)))\n",
        "model.add(Dense(256, activation=\"relu\"))\n",
        "model.add(Dense(128, activation=\"relu\"))\n",
        "model.add(Dense(32, activation=\"relu\"))\n",
        "model.add(Dense(8, activation=\"relu\"))\n",
        "model.add(Dense(1, activation=\"sigmoid\"))"
      ],
      "metadata": {
        "id": "FuHZwSzgm1yG"
      },
      "execution_count": 36,
      "outputs": []
    },
    {
      "cell_type": "code",
      "source": [
        "model.summary()"
      ],
      "metadata": {
        "id": "m6TUHH-Qou-P",
        "outputId": "d4098f64-7dee-478f-a9f9-774a433a6f7b",
        "colab": {
          "base_uri": "https://localhost:8080/",
          "height": 298
        }
      },
      "execution_count": 37,
      "outputs": [
        {
          "output_type": "display_data",
          "data": {
            "text/plain": [
              "\u001b[1mModel: \"sequential_3\"\u001b[0m\n"
            ],
            "text/html": [
              "<pre style=\"white-space:pre;overflow-x:auto;line-height:normal;font-family:Menlo,'DejaVu Sans Mono',consolas,'Courier New',monospace\"><span style=\"font-weight: bold\">Model: \"sequential_3\"</span>\n",
              "</pre>\n"
            ]
          },
          "metadata": {}
        },
        {
          "output_type": "display_data",
          "data": {
            "text/plain": [
              "┏━━━━━━━━━━━━━━━━━━━━━━━━━━━━━━━━━┳━━━━━━━━━━━━━━━━━━━━━━━━┳━━━━━━━━━━━━━━━┓\n",
              "┃\u001b[1m \u001b[0m\u001b[1mLayer (type)                   \u001b[0m\u001b[1m \u001b[0m┃\u001b[1m \u001b[0m\u001b[1mOutput Shape          \u001b[0m\u001b[1m \u001b[0m┃\u001b[1m \u001b[0m\u001b[1m      Param #\u001b[0m\u001b[1m \u001b[0m┃\n",
              "┡━━━━━━━━━━━━━━━━━━━━━━━━━━━━━━━━━╇━━━━━━━━━━━━━━━━━━━━━━━━╇━━━━━━━━━━━━━━━┩\n",
              "│ dense_9 (\u001b[38;5;33mDense\u001b[0m)                 │ (\u001b[38;5;45mNone\u001b[0m, \u001b[38;5;34m256\u001b[0m)            │     \u001b[38;5;34m2,560,256\u001b[0m │\n",
              "├─────────────────────────────────┼────────────────────────┼───────────────┤\n",
              "│ dense_10 (\u001b[38;5;33mDense\u001b[0m)                │ (\u001b[38;5;45mNone\u001b[0m, \u001b[38;5;34m128\u001b[0m)            │        \u001b[38;5;34m32,896\u001b[0m │\n",
              "├─────────────────────────────────┼────────────────────────┼───────────────┤\n",
              "│ dense_11 (\u001b[38;5;33mDense\u001b[0m)                │ (\u001b[38;5;45mNone\u001b[0m, \u001b[38;5;34m32\u001b[0m)             │         \u001b[38;5;34m4,128\u001b[0m │\n",
              "├─────────────────────────────────┼────────────────────────┼───────────────┤\n",
              "│ dense_12 (\u001b[38;5;33mDense\u001b[0m)                │ (\u001b[38;5;45mNone\u001b[0m, \u001b[38;5;34m8\u001b[0m)              │           \u001b[38;5;34m264\u001b[0m │\n",
              "├─────────────────────────────────┼────────────────────────┼───────────────┤\n",
              "│ dense_13 (\u001b[38;5;33mDense\u001b[0m)                │ (\u001b[38;5;45mNone\u001b[0m, \u001b[38;5;34m1\u001b[0m)              │             \u001b[38;5;34m9\u001b[0m │\n",
              "└─────────────────────────────────┴────────────────────────┴───────────────┘\n"
            ],
            "text/html": [
              "<pre style=\"white-space:pre;overflow-x:auto;line-height:normal;font-family:Menlo,'DejaVu Sans Mono',consolas,'Courier New',monospace\">┏━━━━━━━━━━━━━━━━━━━━━━━━━━━━━━━━━┳━━━━━━━━━━━━━━━━━━━━━━━━┳━━━━━━━━━━━━━━━┓\n",
              "┃<span style=\"font-weight: bold\"> Layer (type)                    </span>┃<span style=\"font-weight: bold\"> Output Shape           </span>┃<span style=\"font-weight: bold\">       Param # </span>┃\n",
              "┡━━━━━━━━━━━━━━━━━━━━━━━━━━━━━━━━━╇━━━━━━━━━━━━━━━━━━━━━━━━╇━━━━━━━━━━━━━━━┩\n",
              "│ dense_9 (<span style=\"color: #0087ff; text-decoration-color: #0087ff\">Dense</span>)                 │ (<span style=\"color: #00d7ff; text-decoration-color: #00d7ff\">None</span>, <span style=\"color: #00af00; text-decoration-color: #00af00\">256</span>)            │     <span style=\"color: #00af00; text-decoration-color: #00af00\">2,560,256</span> │\n",
              "├─────────────────────────────────┼────────────────────────┼───────────────┤\n",
              "│ dense_10 (<span style=\"color: #0087ff; text-decoration-color: #0087ff\">Dense</span>)                │ (<span style=\"color: #00d7ff; text-decoration-color: #00d7ff\">None</span>, <span style=\"color: #00af00; text-decoration-color: #00af00\">128</span>)            │        <span style=\"color: #00af00; text-decoration-color: #00af00\">32,896</span> │\n",
              "├─────────────────────────────────┼────────────────────────┼───────────────┤\n",
              "│ dense_11 (<span style=\"color: #0087ff; text-decoration-color: #0087ff\">Dense</span>)                │ (<span style=\"color: #00d7ff; text-decoration-color: #00d7ff\">None</span>, <span style=\"color: #00af00; text-decoration-color: #00af00\">32</span>)             │         <span style=\"color: #00af00; text-decoration-color: #00af00\">4,128</span> │\n",
              "├─────────────────────────────────┼────────────────────────┼───────────────┤\n",
              "│ dense_12 (<span style=\"color: #0087ff; text-decoration-color: #0087ff\">Dense</span>)                │ (<span style=\"color: #00d7ff; text-decoration-color: #00d7ff\">None</span>, <span style=\"color: #00af00; text-decoration-color: #00af00\">8</span>)              │           <span style=\"color: #00af00; text-decoration-color: #00af00\">264</span> │\n",
              "├─────────────────────────────────┼────────────────────────┼───────────────┤\n",
              "│ dense_13 (<span style=\"color: #0087ff; text-decoration-color: #0087ff\">Dense</span>)                │ (<span style=\"color: #00d7ff; text-decoration-color: #00d7ff\">None</span>, <span style=\"color: #00af00; text-decoration-color: #00af00\">1</span>)              │             <span style=\"color: #00af00; text-decoration-color: #00af00\">9</span> │\n",
              "└─────────────────────────────────┴────────────────────────┴───────────────┘\n",
              "</pre>\n"
            ]
          },
          "metadata": {}
        },
        {
          "output_type": "display_data",
          "data": {
            "text/plain": [
              "\u001b[1m Total params: \u001b[0m\u001b[38;5;34m2,597,553\u001b[0m (9.91 MB)\n"
            ],
            "text/html": [
              "<pre style=\"white-space:pre;overflow-x:auto;line-height:normal;font-family:Menlo,'DejaVu Sans Mono',consolas,'Courier New',monospace\"><span style=\"font-weight: bold\"> Total params: </span><span style=\"color: #00af00; text-decoration-color: #00af00\">2,597,553</span> (9.91 MB)\n",
              "</pre>\n"
            ]
          },
          "metadata": {}
        },
        {
          "output_type": "display_data",
          "data": {
            "text/plain": [
              "\u001b[1m Trainable params: \u001b[0m\u001b[38;5;34m2,597,553\u001b[0m (9.91 MB)\n"
            ],
            "text/html": [
              "<pre style=\"white-space:pre;overflow-x:auto;line-height:normal;font-family:Menlo,'DejaVu Sans Mono',consolas,'Courier New',monospace\"><span style=\"font-weight: bold\"> Trainable params: </span><span style=\"color: #00af00; text-decoration-color: #00af00\">2,597,553</span> (9.91 MB)\n",
              "</pre>\n"
            ]
          },
          "metadata": {}
        },
        {
          "output_type": "display_data",
          "data": {
            "text/plain": [
              "\u001b[1m Non-trainable params: \u001b[0m\u001b[38;5;34m0\u001b[0m (0.00 B)\n"
            ],
            "text/html": [
              "<pre style=\"white-space:pre;overflow-x:auto;line-height:normal;font-family:Menlo,'DejaVu Sans Mono',consolas,'Courier New',monospace\"><span style=\"font-weight: bold\"> Non-trainable params: </span><span style=\"color: #00af00; text-decoration-color: #00af00\">0</span> (0.00 B)\n",
              "</pre>\n"
            ]
          },
          "metadata": {}
        }
      ]
    },
    {
      "cell_type": "markdown",
      "metadata": {
        "id": "TEFwCXWBD9dk"
      },
      "source": [
        "---\n",
        "<font color=green>Q11:</font>\n",
        "<br><font color='green'>\n",
        "Compile the defined model with **Stochastic Gradient Descent** as the optimizer include accuracy in the metrics and choose the appropriate loss function. You can use model.compile method.\n",
        "Then, fit the model to the training data and assign the results to a variable named `history`.\n",
        "\n",
        "</font>\n",
        "\n",
        "---"
      ]
    },
    {
      "cell_type": "markdown",
      "metadata": {
        "id": "kGHIaonwHKIt"
      },
      "source": [
        "<center><img width=\"700\" src = \"https://drive.google.com/uc?export=view&id=1FQQv9phTnhFjMP54UvBLn6pps-l0L0AM\"></center>"
      ]
    },
    {
      "cell_type": "code",
      "execution_count": 38,
      "metadata": {
        "id": "nUmkFlpmYLsT"
      },
      "outputs": [],
      "source": [
        "N_epochs = 20 # Number of epochs\n",
        "M = 64 # batch size"
      ]
    },
    {
      "cell_type": "code",
      "source": [
        "model.compile(\n",
        "    optimizer='sgd',\n",
        "    loss=\"binary_crossentropy\",\n",
        "    metrics=[\"accuracy\"]\n",
        ")"
      ],
      "metadata": {
        "id": "iigxS6CSlvQq"
      },
      "execution_count": 39,
      "outputs": []
    },
    {
      "cell_type": "code",
      "source": [
        "history = model.fit(\n",
        "    X_train, y_train,\n",
        "    epochs=N_epochs,\n",
        "    batch_size=M,\n",
        "    validation_data=(X_test, y_test)\n",
        ")"
      ],
      "metadata": {
        "id": "YGe92_z9qE0t",
        "outputId": "4f07e168-7a58-485d-b6b9-0b46ae7793a9",
        "colab": {
          "base_uri": "https://localhost:8080/"
        }
      },
      "execution_count": 40,
      "outputs": [
        {
          "output_type": "stream",
          "name": "stdout",
          "text": [
            "Epoch 1/20\n",
            "\u001b[1m389/389\u001b[0m \u001b[32m━━━━━━━━━━━━━━━━━━━━\u001b[0m\u001b[37m\u001b[0m \u001b[1m14s\u001b[0m 35ms/step - accuracy: 0.5641 - loss: 0.6843 - val_accuracy: 0.7763 - val_loss: 0.5676\n",
            "Epoch 2/20\n",
            "\u001b[1m389/389\u001b[0m \u001b[32m━━━━━━━━━━━━━━━━━━━━\u001b[0m\u001b[37m\u001b[0m \u001b[1m19s\u001b[0m 32ms/step - accuracy: 0.8044 - loss: 0.4854 - val_accuracy: 0.8403 - val_loss: 0.3718\n",
            "Epoch 3/20\n",
            "\u001b[1m389/389\u001b[0m \u001b[32m━━━━━━━━━━━━━━━━━━━━\u001b[0m\u001b[37m\u001b[0m \u001b[1m12s\u001b[0m 32ms/step - accuracy: 0.8703 - loss: 0.3171 - val_accuracy: 0.8681 - val_loss: 0.3142\n",
            "Epoch 4/20\n",
            "\u001b[1m389/389\u001b[0m \u001b[32m━━━━━━━━━━━━━━━━━━━━\u001b[0m\u001b[37m\u001b[0m \u001b[1m11s\u001b[0m 29ms/step - accuracy: 0.8930 - loss: 0.2662 - val_accuracy: 0.8536 - val_loss: 0.3465\n",
            "Epoch 5/20\n",
            "\u001b[1m389/389\u001b[0m \u001b[32m━━━━━━━━━━━━━━━━━━━━\u001b[0m\u001b[37m\u001b[0m \u001b[1m12s\u001b[0m 32ms/step - accuracy: 0.9075 - loss: 0.2309 - val_accuracy: 0.8747 - val_loss: 0.3013\n",
            "Epoch 6/20\n",
            "\u001b[1m389/389\u001b[0m \u001b[32m━━━━━━━━━━━━━━━━━━━━\u001b[0m\u001b[37m\u001b[0m \u001b[1m22s\u001b[0m 35ms/step - accuracy: 0.9176 - loss: 0.2076 - val_accuracy: 0.8786 - val_loss: 0.2992\n",
            "Epoch 7/20\n",
            "\u001b[1m389/389\u001b[0m \u001b[32m━━━━━━━━━━━━━━━━━━━━\u001b[0m\u001b[37m\u001b[0m \u001b[1m18s\u001b[0m 30ms/step - accuracy: 0.9224 - loss: 0.1990 - val_accuracy: 0.8799 - val_loss: 0.3021\n",
            "Epoch 8/20\n",
            "\u001b[1m389/389\u001b[0m \u001b[32m━━━━━━━━━━━━━━━━━━━━\u001b[0m\u001b[37m\u001b[0m \u001b[1m21s\u001b[0m 32ms/step - accuracy: 0.9345 - loss: 0.1726 - val_accuracy: 0.8767 - val_loss: 0.3082\n",
            "Epoch 9/20\n",
            "\u001b[1m389/389\u001b[0m \u001b[32m━━━━━━━━━━━━━━━━━━━━\u001b[0m\u001b[37m\u001b[0m \u001b[1m12s\u001b[0m 32ms/step - accuracy: 0.9413 - loss: 0.1568 - val_accuracy: 0.8755 - val_loss: 0.3200\n",
            "Epoch 10/20\n",
            "\u001b[1m389/389\u001b[0m \u001b[32m━━━━━━━━━━━━━━━━━━━━\u001b[0m\u001b[37m\u001b[0m \u001b[1m21s\u001b[0m 34ms/step - accuracy: 0.9488 - loss: 0.1427 - val_accuracy: 0.8665 - val_loss: 0.3634\n",
            "Epoch 11/20\n",
            "\u001b[1m389/389\u001b[0m \u001b[32m━━━━━━━━━━━━━━━━━━━━\u001b[0m\u001b[37m\u001b[0m \u001b[1m19s\u001b[0m 31ms/step - accuracy: 0.9532 - loss: 0.1320 - val_accuracy: 0.8714 - val_loss: 0.3488\n",
            "Epoch 12/20\n",
            "\u001b[1m389/389\u001b[0m \u001b[32m━━━━━━━━━━━━━━━━━━━━\u001b[0m\u001b[37m\u001b[0m \u001b[1m12s\u001b[0m 31ms/step - accuracy: 0.9635 - loss: 0.1093 - val_accuracy: 0.8438 - val_loss: 0.4621\n",
            "Epoch 13/20\n",
            "\u001b[1m389/389\u001b[0m \u001b[32m━━━━━━━━━━━━━━━━━━━━\u001b[0m\u001b[37m\u001b[0m \u001b[1m21s\u001b[0m 32ms/step - accuracy: 0.9713 - loss: 0.0946 - val_accuracy: 0.8703 - val_loss: 0.3753\n",
            "Epoch 14/20\n",
            "\u001b[1m389/389\u001b[0m \u001b[32m━━━━━━━━━━━━━━━━━━━━\u001b[0m\u001b[37m\u001b[0m \u001b[1m21s\u001b[0m 34ms/step - accuracy: 0.9773 - loss: 0.0761 - val_accuracy: 0.8697 - val_loss: 0.3792\n",
            "Epoch 15/20\n",
            "\u001b[1m389/389\u001b[0m \u001b[32m━━━━━━━━━━━━━━━━━━━━\u001b[0m\u001b[37m\u001b[0m \u001b[1m21s\u001b[0m 34ms/step - accuracy: 0.9867 - loss: 0.0563 - val_accuracy: 0.8652 - val_loss: 0.4142\n",
            "Epoch 16/20\n",
            "\u001b[1m389/389\u001b[0m \u001b[32m━━━━━━━━━━━━━━━━━━━━\u001b[0m\u001b[37m\u001b[0m \u001b[1m13s\u001b[0m 34ms/step - accuracy: 0.9909 - loss: 0.0465 - val_accuracy: 0.8721 - val_loss: 0.3933\n",
            "Epoch 17/20\n",
            "\u001b[1m389/389\u001b[0m \u001b[32m━━━━━━━━━━━━━━━━━━━━\u001b[0m\u001b[37m\u001b[0m \u001b[1m20s\u001b[0m 34ms/step - accuracy: 0.9946 - loss: 0.0345 - val_accuracy: 0.8709 - val_loss: 0.4321\n",
            "Epoch 18/20\n",
            "\u001b[1m389/389\u001b[0m \u001b[32m━━━━━━━━━━━━━━━━━━━━\u001b[0m\u001b[37m\u001b[0m \u001b[1m20s\u001b[0m 32ms/step - accuracy: 0.9965 - loss: 0.0262 - val_accuracy: 0.8605 - val_loss: 0.4961\n",
            "Epoch 19/20\n",
            "\u001b[1m389/389\u001b[0m \u001b[32m━━━━━━━━━━━━━━━━━━━━\u001b[0m\u001b[37m\u001b[0m \u001b[1m21s\u001b[0m 33ms/step - accuracy: 0.9758 - loss: 0.0945 - val_accuracy: 0.8669 - val_loss: 0.4672\n",
            "Epoch 20/20\n",
            "\u001b[1m389/389\u001b[0m \u001b[32m━━━━━━━━━━━━━━━━━━━━\u001b[0m\u001b[37m\u001b[0m \u001b[1m13s\u001b[0m 34ms/step - accuracy: 0.9988 - loss: 0.0135 - val_accuracy: 0.8679 - val_loss: 0.4873\n"
          ]
        }
      ]
    },
    {
      "cell_type": "markdown",
      "metadata": {
        "id": "ENMWw_CzD-Ts"
      },
      "source": [
        "---\n",
        "<font color=green>Q12:</font>\n",
        "<br><font color='green'>\n",
        "Display the losses and accuracies for the training and the validation data.\n",
        "</font>\n",
        "\n",
        "---"
      ]
    },
    {
      "cell_type": "code",
      "execution_count": 43,
      "metadata": {
        "colab": {
          "base_uri": "https://localhost:8080/"
        },
        "id": "bKwF6kw-ZPW5",
        "outputId": "52797304-5249-4675-a292-ec25f1617019"
      },
      "outputs": [
        {
          "output_type": "stream",
          "name": "stdout",
          "text": [
            "dict_keys(['accuracy', 'loss', 'val_accuracy', 'val_loss'])\n"
          ]
        }
      ],
      "source": [
        "print(history.history.keys())"
      ]
    },
    {
      "cell_type": "code",
      "execution_count": 41,
      "metadata": {
        "colab": {
          "base_uri": "https://localhost:8080/",
          "height": 522
        },
        "id": "6cJo1GIeZZFw",
        "outputId": "a9083287-1c5b-4f4d-bc4c-410cf3e5d834"
      },
      "outputs": [
        {
          "output_type": "display_data",
          "data": {
            "text/plain": [
              "<Figure size 1000x600 with 1 Axes>"
            ],
            "image/png": "[encoded data removed]"
          },
          "metadata": {}
        }
      ],
      "source": [
        "plt.figure(figsize = (10,6))\n",
        "plt.plot(history.history[\"loss\"], label = \"Training Loss\")\n",
        "plt.plot(history.history[\"val_loss\"], label = \"Validation Loss\")\n",
        "plt.legend()\n",
        "plt.show()"
      ]
    },
    {
      "cell_type": "code",
      "execution_count": 44,
      "metadata": {
        "colab": {
          "base_uri": "https://localhost:8080/",
          "height": 522
        },
        "id": "7OMZj_DgbGd0",
        "outputId": "27be0438-6554-44b9-d384-2eedb55039e2"
      },
      "outputs": [
        {
          "output_type": "display_data",
          "data": {
            "text/plain": [
              "<Figure size 1000x600 with 1 Axes>"
            ],
            "image/png": "[encoded data removed]"
          },
          "metadata": {}
        }
      ],
      "source": [
        "plt.figure(figsize = (10,6))\n",
        "plt.plot(history.history[\"accuracy\"], label = \"Training Accuracy\")\n",
        "plt.plot(history.history[\"val_accuracy\"], label = \"Validation Accuracy\")\n",
        "plt.legend()\n",
        "plt.show()"
      ]
    },
    {
      "cell_type": "markdown",
      "metadata": {
        "id": "6bc7zsxoIzO5"
      },
      "source": [
        "---\n",
        "<font color=green>Q13:</font>\n",
        "<br><font color='green'>\n",
        "What issue can be inferred from the plots presented earlier?\n",
        "</font>\n",
        "\n",
        "---\n"
      ]
    },
    {
      "cell_type": "markdown",
      "metadata": {
        "id": "GaBt6F3YqsXw"
      },
      "source": [
        "## 2.2 Fighting the Overfitting problem"
      ]
    },
    {
      "cell_type": "markdown",
      "metadata": {
        "id": "T98t8roeJI0e"
      },
      "source": [
        "To mitigate overfitting, we'll begin by reducing the complexity of the model.\n",
        "\n",
        "---\n",
        "<font color=green>Q14:</font>\n",
        "<br><font color='green'>\n",
        "Create the following model and train it. (Set the Dropout rate to 0.2).\n",
        "\n",
        "---\n",
        "\n"
      ]
    },
    {
      "cell_type": "markdown",
      "metadata": {
        "id": "zckYfpufHMEk"
      },
      "source": [
        "<center><img width=\"500\" src = \"https://drive.google.com/uc?export=view&id=1xlMRa7JsCFfMejfqA65b_aiGLE1dQNfY\"></center>"
      ]
    },
    {
      "cell_type": "code",
      "execution_count": null,
      "metadata": {
        "colab": {
          "base_uri": "https://localhost:8080/"
        },
        "id": "DHY4kN5unqHL",
        "outputId": "2d6480aa-f2b4-4b1c-8ac6-c12137ce598a"
      },
      "outputs": [
        {
          "name": "stdout",
          "output_type": "stream",
          "text": [
            "Model: \"sequential_4\"\n",
            "_________________________________________________________________\n",
            " Layer (type)                Output Shape              Param #   \n",
            "=================================================================\n",
            " dense_20 (Dense)            (None, 256)               2560256   \n",
            "                                                                 \n",
            " dropout_8 (Dropout)         (None, 256)               0         \n",
            "                                                                 \n",
            " dense_21 (Dense)            (None, 128)               32896     \n",
            "                                                                 \n",
            " dropout_9 (Dropout)         (None, 128)               0         \n",
            "                                                                 \n",
            " dense_22 (Dense)            (None, 32)                4128      \n",
            "                                                                 \n",
            " dropout_10 (Dropout)        (None, 32)                0         \n",
            "                                                                 \n",
            " dense_23 (Dense)            (None, 8)                 264       \n",
            "                                                                 \n",
            " dense_24 (Dense)            (None, 1)                 9         \n",
            "                                                                 \n",
            "=================================================================\n",
            "Total params: 2,597,553\n",
            "Trainable params: 2,597,553\n",
            "Non-trainable params: 0\n",
            "_________________________________________________________________\n"
          ]
        }
      ],
      "source": [
        "from tensorflow.keras.models import Sequential # to define a stack of layers\n",
        "from tensorflow.keras.layers import Dense, Dropout # The dense and dropout layers\n",
        "\n"
      ]
    },
    {
      "cell_type": "code",
      "execution_count": null,
      "metadata": {
        "id": "k_oIBdsUn5MV"
      },
      "outputs": [],
      "source": []
    },
    {
      "cell_type": "code",
      "execution_count": null,
      "metadata": {
        "colab": {
          "base_uri": "https://localhost:8080/"
        },
        "id": "0woVCNP2n95j",
        "outputId": "9068f1ea-3d83-4b84-b0d5-8556640426ec"
      },
      "outputs": [
        {
          "name": "stdout",
          "output_type": "stream",
          "text": [
            "Epoch 1/10\n",
            "273/273 [==============================] - 8s 27ms/step - loss: 0.6903 - acc: 0.5287 - val_loss: 0.6779 - val_acc: 0.6570\n",
            "Epoch 2/10\n",
            "273/273 [==============================] - 7s 25ms/step - loss: 0.6521 - acc: 0.6572 - val_loss: 0.5832 - val_acc: 0.7793\n",
            "Epoch 3/10\n",
            "273/273 [==============================] - 7s 25ms/step - loss: 0.5345 - acc: 0.7607 - val_loss: 0.4338 - val_acc: 0.8160\n",
            "Epoch 4/10\n",
            "273/273 [==============================] - 7s 26ms/step - loss: 0.4215 - acc: 0.8179 - val_loss: 0.3556 - val_acc: 0.8538\n",
            "Epoch 5/10\n",
            "273/273 [==============================] - 7s 26ms/step - loss: 0.3624 - acc: 0.8499 - val_loss: 0.3655 - val_acc: 0.8444\n",
            "Epoch 6/10\n",
            "273/273 [==============================] - 7s 25ms/step - loss: 0.3238 - acc: 0.8716 - val_loss: 0.3270 - val_acc: 0.8655\n",
            "Epoch 7/10\n",
            "273/273 [==============================] - 7s 26ms/step - loss: 0.2894 - acc: 0.8870 - val_loss: 0.2937 - val_acc: 0.8785\n",
            "Epoch 8/10\n",
            "273/273 [==============================] - 7s 25ms/step - loss: 0.2614 - acc: 0.8993 - val_loss: 0.2909 - val_acc: 0.8813\n",
            "Epoch 9/10\n",
            "273/273 [==============================] - 8s 31ms/step - loss: 0.2403 - acc: 0.9088 - val_loss: 0.2943 - val_acc: 0.8783\n",
            "Epoch 10/10\n",
            "273/273 [==============================] - 7s 25ms/step - loss: 0.2190 - acc: 0.9210 - val_loss: 0.2941 - val_acc: 0.8820\n"
          ]
        }
      ],
      "source": []
    },
    {
      "cell_type": "markdown",
      "metadata": {
        "id": "RIpW11pCEAYN"
      },
      "source": [
        "---\n",
        "<font color=green>Q15:</font>\n",
        "<br><font color='green'>\n",
        "Display the losses and accuracies for the training and the validation data.\n",
        "</font>\n",
        "\n",
        "---"
      ]
    },
    {
      "cell_type": "code",
      "execution_count": null,
      "metadata": {
        "colab": {
          "base_uri": "https://localhost:8080/",
          "height": 513
        },
        "id": "-8YxMdEtpiG9",
        "outputId": "ce90de85-bc5a-4194-fe26-2c2ba36bee28"
      },
      "outputs": [
        {
          "data": {
            "image/png": "[encoded data removed]",
            "text/plain": [
              "<Figure size 720x576 with 1 Axes>"
            ]
          },
          "metadata": {},
          "output_type": "display_data"
        }
      ],
      "source": []
    },
    {
      "cell_type": "code",
      "execution_count": null,
      "metadata": {
        "colab": {
          "base_uri": "https://localhost:8080/",
          "height": 513
        },
        "id": "0un4fl4cpkqx",
        "outputId": "4c68d548-b8c2-4b3a-8118-b5a2bb965ebb"
      },
      "outputs": [
        {
          "data": {
            "image/png": "[encoded data removed]",
            "text/plain": [
              "<Figure size 720x576 with 1 Axes>"
            ]
          },
          "metadata": {},
          "output_type": "display_data"
        }
      ],
      "source": []
    },
    {
      "cell_type": "markdown",
      "metadata": {
        "id": "CZhhmdnZECfw"
      },
      "source": [
        "---\n",
        "<font color=green>Q16:</font>\n",
        "<br><font color='green'>\n",
        "Evaluate your final model on the test data\n",
        "</font>\n",
        "\n",
        "---"
      ]
    },
    {
      "cell_type": "code",
      "execution_count": null,
      "metadata": {
        "colab": {
          "base_uri": "https://localhost:8080/"
        },
        "id": "I1Owo_0xuQez",
        "outputId": "48e4a1e4-b243-4681-ab8a-6a45010b149c"
      },
      "outputs": [
        {
          "name": "stdout",
          "output_type": "stream",
          "text": [
            "780/780 [==============================] - 6s 7ms/step - loss: 0.3105 - acc: 0.8734\n"
          ]
        },
        {
          "data": {
            "text/plain": [
              "[0.31047117710113525, 0.8733963966369629]"
            ]
          },
          "execution_count": 49,
          "metadata": {},
          "output_type": "execute_result"
        }
      ],
      "source": []
    },
    {
      "cell_type": "markdown",
      "metadata": {
        "id": "ARBav-xY8UKE"
      },
      "source": [
        "# Wrap-up\n",
        "\n",
        "\n"
      ]
    },
    {
      "cell_type": "markdown",
      "metadata": {
        "id": "QzEtZuyGfDmM"
      },
      "source": [
        "**In this lecture, we covered the following:**\n",
        "\n",
        "- Preprocessing sequences of word reviews.\n",
        "- Creating a stack of fully connected layers for a binary classification task.\n",
        "- Training the model using Stochastic Gradient Descent.\n",
        "- Determining the optimal complexity of a neural network to strike a balance between **Optimization** and **Generalization**.\n",
        "\n",
        "**How to improve the model:**\n",
        "\n",
        "- Experimenting with hyperparameters and regularization techniques.\n",
        "- Exploring better methods of encoding words (Refer to Lecture 5).\n",
        "- Utilizing Sequential Models that account for the sequential nature of the data (Refer to Lectures 6, 7, and 8).\n"
      ]
    }
  ],
  "metadata": {
    "colab": {
      "provenance": [],
      "include_colab_link": true
    },
    "kernelspec": {
      "display_name": "Python 3",
      "name": "python3"
    },
    "language_info": {
      "name": "python"
    }
  },
  "nbformat": 4,
  "nbformat_minor": 0
}